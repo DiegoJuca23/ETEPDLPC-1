{
  "nbformat": 4,
  "nbformat_minor": 0,
  "metadata": {
    "colab": {
      "name": "calculadora.ipynb",
      "provenance": [],
      "authorship_tag": "ABX9TyOPOD/ZEaFRcp9rMxzYg29B",
      "include_colab_link": true
    },
    "kernelspec": {
      "name": "python3",
      "display_name": "Python 3"
    }
  },
  "cells": [
    {
      "cell_type": "markdown",
      "metadata": {
        "id": "view-in-github",
        "colab_type": "text"
      },
      "source": [
        "<a href=\"https://colab.research.google.com/github/clovesrocha/ETEPDLPC/blob/master/calculadora.ipynb\" target=\"_parent\"><img src=\"https://colab.research.google.com/assets/colab-badge.svg\" alt=\"Open In Colab\"/></a>"
      ]
    },
    {
      "cell_type": "code",
      "metadata": {
        "id": "pZ6eOALWwqVR",
        "colab_type": "code",
        "colab": {
          "base_uri": "https://localhost:8080/",
          "height": 187
        },
        "outputId": "60ab7a93-fe71-4042-d095-98586d95085c"
      },
      "source": [
        "# Exemplo de calculadora \n",
        "# Prof. Cloves Rocha\n",
        "\n",
        "num_1 = int(input('Enter your first number: '))\n",
        "num_2 = int(input('Enter your second number: '))\n",
        "\n",
        "# Addition\n",
        "print('{} + {} = '.format(num_1, num_2))\n",
        "print(num_1 + num_2)\n",
        "\n",
        "# Subtraction\n",
        "print('{} - {} = '.format(num_1, num_2))\n",
        "print(num_1 - num_2)\n",
        "\n",
        "# Multiplication\n",
        "print('{} * {} = '.format(num_1, num_2))\n",
        "print(num_1 * num_2)\n",
        "\n",
        "# Division\n",
        "print('{} / {} = '.format(num_1, num_2))\n",
        "print(num_1 / num_2)"
      ],
      "execution_count": 1,
      "outputs": [
        {
          "output_type": "stream",
          "text": [
            "Enter your first number: 5\n",
            "Enter your second number: 6\n",
            "5 + 6 = \n",
            "11\n",
            "5 - 6 = \n",
            "-1\n",
            "5 * 6 = \n",
            "30\n",
            "5 / 6 = \n",
            "0.8333333333333334\n"
          ],
          "name": "stdout"
        }
      ]
    },
    {
      "cell_type": "markdown",
      "metadata": {
        "id": "c9XKU8SexX4K",
        "colab_type": "text"
      },
      "source": [
        ""
      ]
    }
  ]
}